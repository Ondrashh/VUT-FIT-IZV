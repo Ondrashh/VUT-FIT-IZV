{
 "metadata": {
  "language_info": {
   "codemirror_mode": {
    "name": "ipython",
    "version": 3
   },
   "file_extension": ".py",
   "mimetype": "text/x-python",
   "name": "python",
   "nbconvert_exporter": "python",
   "pygments_lexer": "ipython3",
   "version": "3.8.6-final"
  },
  "orig_nbformat": 2,
  "kernelspec": {
   "name": "Python 3.8.6 64-bit",
   "display_name": "Python 3.8.6 64-bit",
   "metadata": {
    "interpreter": {
     "hash": "ee57eba5b31f05a5075ae50cbde01bb1e841a344b7f36ece415bba1324ec04ec"
    }
   }
  }
 },
 "nbformat": 4,
 "nbformat_minor": 2,
 "cells": [
  {
   "cell_type": "code",
   "execution_count": null,
   "metadata": {},
   "outputs": [],
   "source": [
    "###\n",
    "# Prerekvizity: stažení dat z webu\n",
    "import requests\n",
    "import os\n",
    "if not os.path.exists(\"B2BTUR01.xls\"):\n",
    "    url = \"http://portal.chmi.cz/files/portal/docs/meteo/ok/denni_data/files/B2BTUR01.xls\"\n",
    "    r = requests.get(url)\n",
    "    open(\"B2BTUR01.xls\", 'wb').write(r.content)"
   ]
  },
  {
   "cell_type": "code",
   "execution_count": null,
   "metadata": {},
   "outputs": [],
   "source": [
    "###\n",
    "# instalace balíku pro Excel\n",
    "# možná přes příkaz:\n",
    "#%pip install xlrd\n",
    "import pandas as pd\n",
    "import numpy as np"
   ]
  },
  {
   "source": [
    "## Načtení dat\n",
    "Pomůže nám funkce `read_excel`, která bere za parametry\n",
    "* soubor\n",
    "* `sheet_name` - jedna hodnota nebo seznam integerových pořadí listů či jejich názvů\n",
    "* `header` - na kterém řádku je hlavička\n",
    "\n",
    "Vrací jeden DataFrame nebo sérii DataFramů (pokud je více listů)"
   ],
   "cell_type": "markdown",
   "metadata": {}
  },
  {
   "cell_type": "code",
   "execution_count": null,
   "metadata": {},
   "outputs": [],
   "source": [
    "df_list = pd.read_excel(\"B2BTUR01.xls\", sheet_name=[1, 2, 3], header=3)\n",
    "df_avg, df_max, df_min =  df_list.values() ###"
   ]
  },
  {
   "cell_type": "code",
   "execution_count": null,
   "metadata": {},
   "outputs": [],
   "source": [
    "# Podívejme se na data, co jsme načetli\n",
    "df_avg"
   ]
  },
  {
   "cell_type": "code",
   "execution_count": null,
   "metadata": {},
   "outputs": [],
   "source": [
    "# A na datové typy\n",
    "df_avg.info()"
   ]
  },
  {
   "cell_type": "code",
   "execution_count": null,
   "metadata": {},
   "outputs": [],
   "source": [
    "# Nyní musíme napsat funkci, která nám upraví (vyčistí dataframe)\n",
    "# - do \"stacked\" formátu, název sloupce bude podle parametru value_name\n",
    "# - odstraní diakritiku ze sloupce (funkce rename)\n",
    "# - přetypuje den ze stringu do do integeru (a odstraní tečku)\n",
    "\n",
    "def df_update(df : pd.DataFrame, value_name : str) -> pd.DataFrame: ###\n",
    "    df = df.melt(value_vars=df.columns[2:].values, var_name=\"den\", value_name=value_name, id_vars=[\"rok\", \"měsíc\"])\n",
    "    df.rename(columns = {\"měsíc\": \"mesic\"}, inplace=True)\n",
    "    df[\"den\"] = df[\"den\"].str.replace(\".\", \"\").astype(\"int\")\n",
    "    return df ###\n",
    "\n",
    "df_update(df_avg, \"temp_avg\") ###"
   ]
  },
  {
   "cell_type": "code",
   "execution_count": null,
   "metadata": {},
   "outputs": [],
   "source": [
    "###\n",
    "# Provedeme pro všechny dataframy\n",
    "df_avg_s = df_update(df_avg, \"temp_avg\")\n",
    "df_min_s = df_update(df_min, \"temp_min\")\n",
    "df_max_s = df_update(df_max, \"temp_max\")"
   ]
  },
  {
   "cell_type": "code",
   "execution_count": null,
   "metadata": {},
   "outputs": [],
   "source": [
    "# nyí všechny DataFrame musíme spojit dohromady\n",
    "# - varianta jedna pomocí merge\n",
    "pd.merge(pd.merge(df_avg_s, df_min_s, on=[\"rok\", \"mesic\", \"den\"]), df_max_s, on=[\"rok\", \"mesic\", \"den\"])"
   ]
  },
  {
   "cell_type": "code",
   "execution_count": null,
   "metadata": {},
   "outputs": [],
   "source": [
    "# Nastavíme správně indexy\n",
    "df_avg_i = df_avg_s.set_index([\"rok\", \"mesic\", \"den\"])\n",
    "df_min_i = df_min_s.set_index([\"rok\", \"mesic\", \"den\"])\n",
    "df_max_i = df_max_s.set_index([\"rok\", \"mesic\", \"den\"])"
   ]
  },
  {
   "cell_type": "code",
   "execution_count": null,
   "metadata": {},
   "outputs": [],
   "source": [
    "# složíme data (ale správná osa)\n",
    "df_all = pd.concat([df_avg_i, df_min_i, df_max_i], axis=1)\n",
    "df_all"
   ]
  },
  {
   "source": [
    "# Hrátky s daty\n",
    "Data máme připravená v pěkném formátu, můžeme se nyní dotazovat!"
   ],
   "cell_type": "markdown",
   "metadata": {}
  },
  {
   "source": [
    "## Kdy u nás byla nejnižší teplota?\n",
    "(7. ledna 1985)"
   ],
   "cell_type": "markdown",
   "metadata": {}
  },
  {
   "cell_type": "code",
   "execution_count": null,
   "metadata": {},
   "outputs": [],
   "source": [
    "# kdy u nas byla nejnizsi teplota\n",
    "df_all[\"temp_min\"].min()\n",
    "df_all[\"temp_min\"].argmin()\n",
    "df_all.iloc[df_all[\"temp_min\"].argmin()]"
   ]
  },
  {
   "source": [
    "## Jak bylo 30. října v různých rocích?"
   ],
   "cell_type": "markdown",
   "metadata": {}
  },
  {
   "cell_type": "code",
   "execution_count": null,
   "metadata": {},
   "outputs": [],
   "source": [
    "# jak bylo 30. rijna v ruzýnch rocich?\n",
    "tmp = df_all.loc[(slice(None), 10, 30)]\n",
    "tmp"
   ]
  },
  {
   "cell_type": "code",
   "execution_count": null,
   "metadata": {},
   "outputs": [],
   "source": [
    "# Zkusme vizualizovat do sloupcového grafu\n",
    "import matplotlib.pyplot as plt ###\n",
    "plt.Figure() ###\n",
    "plt.bar(x=tmp.index.values, height=tmp[\"temp_avg\"].to_numpy())\n",
    "plt.show() ###"
   ]
  },
  {
   "source": [
    "## Analýza jednotlivých měsíců\n",
    "Budeme hledat nějaké měsíce v historii, kdy nastaly různé jevy."
   ],
   "cell_type": "markdown",
   "metadata": {}
  },
  {
   "cell_type": "code",
   "execution_count": null,
   "metadata": {},
   "outputs": [],
   "source": [
    "# Vytvořme dataframe, kde pro každý měsíc a rok bude minimální a maximální teplota\n",
    "###\n",
    "df_mesic = df_all.groupby([\"rok\", \"mesic\"]).agg({\"temp_min\": \"min\", \"temp_max\": \"max\"})\n",
    "# Pro jednodušší práci resetujme indexy\n",
    "df_mesic.reset_index(inplace=True) ###\n",
    "df_mesic ###"
   ]
  },
  {
   "source": [
    "### V kterých měsících mrzlo?"
   ],
   "cell_type": "markdown",
   "metadata": {}
  },
  {
   "cell_type": "code",
   "execution_count": null,
   "metadata": {},
   "outputs": [],
   "source": [
    "# V kterých měsících mrzlo?\n",
    "df_mesic[df_mesic[\"temp_min\"] < 0]"
   ]
  },
  {
   "cell_type": "code",
   "execution_count": null,
   "metadata": {},
   "outputs": [],
   "source": [
    "# mrzlo nekdy v květnu?\n",
    "df_mesic[(df_mesic[\"temp_min\"]<0) & (df_mesic[\"mesic\"] == 5)]"
   ]
  },
  {
   "cell_type": "code",
   "execution_count": null,
   "metadata": {},
   "outputs": [],
   "source": [
    "# kolikrát v jednotlivých měsících mrzlo?\n",
    "df_mesic[df_mesic[\"temp_min\"] < 0].groupby(\"mesic\")[\"rok\"].count()"
   ]
  },
  {
   "cell_type": "code",
   "execution_count": null,
   "metadata": {},
   "outputs": [],
   "source": [
    "# Ztratily se nám ale některé měsíce.\n",
    "dfc = df_mesic[[\"mesic\", \"temp_min\"]].copy()  # Vytvoříme kopii ###\n",
    "# Místo toho nahradíme nenulové \n",
    "dfc.loc[dfc[\"temp_min\"] < 0, \"freeze\"] = True\n",
    "dfc\n",
    "dfc.groupby(\"mesic\").agg( {\"freeze\" : \"sum\"} ) #.plot.bar()"
   ]
  },
  {
   "source": [
    "## Jaké byly největší teplotní skoky?"
   ],
   "cell_type": "markdown",
   "metadata": {}
  },
  {
   "cell_type": "code",
   "execution_count": null,
   "metadata": {},
   "outputs": [],
   "source": [
    "# jake byly nejvetsi teplotni skoky?\n",
    "df_range = df_mesic.copy()\n",
    "df_range[\"range\"] = df_mesic[\"temp_max\"] - df_mesic[\"temp_min\"]\n",
    "df_range"
   ]
  },
  {
   "cell_type": "code",
   "execution_count": null,
   "metadata": {},
   "outputs": [],
   "source": [
    "# Vypiš prvních 10 měsíců, kdy byl největší teplotní skok\n",
    "df_range.sort_values(\"range\", ascending=False).head(10)"
   ]
  },
  {
   "cell_type": "code",
   "execution_count": null,
   "metadata": {},
   "outputs": [],
   "source": [
    "df_range.nlargest(columns=\"range\", n=10)"
   ]
  },
  {
   "source": [
    "## Můžeme se vrátit zpět k formátu z CHMI?"
   ],
   "cell_type": "markdown",
   "metadata": {}
  },
  {
   "cell_type": "code",
   "execution_count": null,
   "metadata": {},
   "outputs": [],
   "source": [
    "df_all.dropna().unstack(level=\"den\")[\"temp_avg\"]"
   ]
  }
 ]
}