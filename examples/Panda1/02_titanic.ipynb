{
 "metadata": {
  "language_info": {
   "codemirror_mode": {
    "name": "ipython",
    "version": 3
   },
   "file_extension": ".py",
   "mimetype": "text/x-python",
   "name": "python",
   "nbconvert_exporter": "python",
   "pygments_lexer": "ipython3",
   "version": "3.8.6-final"
  },
  "orig_nbformat": 2,
  "kernelspec": {
   "name": "Python 3.8.6 64-bit",
   "display_name": "Python 3.8.6 64-bit",
   "metadata": {
    "interpreter": {
     "hash": "11d99eda45b83513ac0705ec9d98b93eaf13a32200a84e058cdf797e0fe60917"
    }
   }
  }
 },
 "nbformat": 4,
 "nbformat_minor": 2,
 "cells": [
  {
   "cell_type": "code",
   "execution_count": null,
   "metadata": {},
   "outputs": [],
   "source": [
    "###\n",
    "# Prerekvizity: stažení dat z webu\n",
    "import requests\n",
    "import os\n",
    "if not os.path.exists(\"titanic.csv\"):\n",
    "    url = \"https://raw.githubusercontent.com/pandas-dev/pandas/master/doc/data/titanic.csv\"\n",
    "    r = requests.get(url, allow_redirects=True)\n",
    "    _ = open(\"titanic.csv\", 'wb').write(r.content)\n",
    "\n"
   ]
  },
  {
   "cell_type": "code",
   "execution_count": null,
   "metadata": {},
   "outputs": [],
   "source": [
    "###\n",
    "import pandas as pd\n",
    "import numpy as np"
   ]
  },
  {
   "source": [
    "# Pasažéři Titanicu\n",
    "Tato ukázka znázorňuje, k čemu nám slouží otáčení tabulky `pivot`."
   ],
   "cell_type": "markdown",
   "metadata": {}
  },
  {
   "cell_type": "code",
   "execution_count": null,
   "metadata": {},
   "outputs": [],
   "source": [
    "###\n",
    "# Načteme data\n",
    "df = pd.read_csv(\"titanic.csv\")\n",
    "df"
   ]
  },
  {
   "cell_type": "code",
   "execution_count": null,
   "metadata": {},
   "outputs": [],
   "source": [
    "# Znázorníme datové typy a využití paměti\n",
    "display(df.info())\n",
    "display(df.memory_usage(deep=True))"
   ]
  },
  {
   "cell_type": "code",
   "execution_count": null,
   "metadata": {},
   "outputs": [],
   "source": [
    "# co se stane, když změním pohlaví na kategorii?\n",
    "df[\"Sex\"] = df[\"Sex\"].astype(\"category\")\n",
    "df.memory_usage(deep=True) ###"
   ]
  },
  {
   "cell_type": "code",
   "execution_count": null,
   "metadata": {},
   "outputs": [],
   "source": [
    "# Vytvořte tabulku, kde sloupce budou jednotlivé třídy (Pclass)\n",
    "# a řádky budou \"Age\" - průměrný věk\n",
    "# a také Pohlaví - např procento mužů\n",
    "# Prvně je potřeba vytvořit \"binární\" sloupec sex_bin (1 = muž, 0 = žena)\n",
    "df.loc[df[\"Sex\"] == \"male\", 'Sex_bin'] = 100\n",
    "df.loc[df[\"Sex\"] == \"female\", 'Sex_bin'] = 0\n",
    "df.pivot_table(values=[\"Sex_bin\", \"Age\"], columns=\"Pclass\")"
   ]
  },
  {
   "cell_type": "code",
   "execution_count": null,
   "metadata": {},
   "outputs": [],
   "source": [
    "# Vytvořte tabulku, která ukazuje, kolik lístků v každé třídě měli muži a ženy\n",
    "df.pivot_table(columns=[\"Pclass\", \"Sex\"], values=[\"Ticket\"], aggfunc=\"count\")"
   ]
  }
 ]
}