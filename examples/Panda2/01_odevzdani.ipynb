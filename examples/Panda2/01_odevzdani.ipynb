{
    "metadata": {
        "language_info": {
            "codemirror_mode": {
                "name": "ipython",
                "version": 3
            },
            "file_extension": ".py",
            "mimetype": "text/x-python",
            "name": "python",
            "nbconvert_exporter": "python",
            "pygments_lexer": "ipython3",
            "version": "3.8.6-final"
        },
        "orig_nbformat": 2,
        "kernelspec": {
            "name": "python3",
            "display_name": "Python 3.8.6 64-bit",
            "metadata": {
                "interpreter": {
                    "hash": "11d99eda45b83513ac0705ec9d98b93eaf13a32200a84e058cdf797e0fe60917"
                }
            }
        }
    },
    "nbformat": 4,
    "nbformat_minor": 2,
    "cells": [
        {
            "source": [
                "# Term\u00edny odevzd\u00e1v\u00e1n\u00ed projekt\u016f\n",
                "V tomto \u00fakolu si projdeme a vizualizujeme to, v jak\u00e9m po\u0159ad\u00ed jste odevzd\u00e1vali prvn\u00ed projekt a prvn\u00ed dva bonusov\u00e9 \u00fakoly."
            ],
            "cell_type": "markdown",
            "metadata": {}
        },
        {
            "cell_type": "code",
            "execution_count": null,
            "metadata": {},
            "outputs": [],
            "source": [
                "###\n",
                "import pandas as pd\n",
                "import matplotlib.pyplot as plt\n",
                "import seaborn as sns\n",
                "import numpy as np"
            ]
        },
        {
            "source": [
                "Na\u010dteme p\u0159edzpracovan\u00e1 data z informa\u010dn\u00edho syst\u00e9mu. Byla vytvo\u0159en\u00e1 jako copy-paste tabulky v HTML do Excelu a tento excelovsk\u00fd soubor byl na\u010dten a data byla spojena podle index\u016f.\n",
                "\n",
                "Z d\u016fvodu ochrany va\u0161eho soukrom\u00ed byl v\u00e1\u0161 login zahashov\u00e1n (se sol\u00ed). Dataset ukazuje **datum posledn\u00edho zm\u011bny soubor\u016f**."
            ],
            "cell_type": "markdown",
            "metadata": {}
        },
        {
            "cell_type": "code",
            "execution_count": null,
            "metadata": {},
            "outputs": [],
            "source": [
                "###\n",
                "# Na\u010dteme dataset\n",
                "df = pd.read_pickle(\"odevzdani.pkl.gz\")\n",
                "df"
            ]
        },
        {
            "source": [
                "Pandas s\u00e1m spr\u00e1vn\u011b interpretoval Excelovsk\u00e9 tabuky a tak\u00e9 si m\u016f\u017eete v\u0161imnout *NaT* dat - Not a Time - obdoba NaN."
            ],
            "cell_type": "markdown",
            "metadata": {}
        },
        {
            "source": [
                "## \u00dakol 1: kdy se odevzd\u00e1valy projekty?"
            ],
            "cell_type": "markdown",
            "metadata": {}
        },
        {
            "cell_type": "code",
            "execution_count": null,
            "metadata": {},
            "outputs": [],
            "source": [
                "# Vytvo\u0159\u00edme si kopii datasetu, se\u0159ad\u00edme jej podle odevzd\u00e1n\u00ed prvn\u00edho projektu\n",
                "# vytvo\u0159\u00edme pomocn\u00fd sloupec a integrujeme\n",
                "df2 = df.copy() ###\n",
                "df2[\"odevzdano\"] = 1\n",
                "df2 = df2.sort_values(\"date_proj1\")\n",
                "df2[\"odevzdano\"] = df2[\"odevzdano\"].cumsum()\n",
                "df2 ###"
            ]
        },
        {
            "cell_type": "code",
            "execution_count": null,
            "metadata": {},
            "outputs": [],
            "source": [
                "# Zobraz\u00edme data pomoc\u00ed seabornu\n",
                "plt.figure(figsize=(12, 4)) ###\n",
                "ax = sns.lineplot(data=df2, x=\"date_proj1\", y=\"odevzdano\")\n",
                "\n",
                "# trik pro zm\u011bnu form\u00e1tov\u00e1n\u00ed \n",
                "xticks = ax.get_xticks() ###\n",
                "print(\"xticks\", xticks) ###\n",
                "ax.set_xticklabels([pd.to_datetime(tm, unit='d').strftime('%d. %m.') for tm in xticks]) ###\n",
                "plt.show() ###"
            ]
        },
        {
            "cell_type": "code",
            "execution_count": null,
            "metadata": {},
            "outputs": [],
            "source": [
                "# a ted chceme vsechny tri projekty\n",
                "# muzeme pracovat na urovni dnu - kolik bylo ktery den odevzdano projektu?\n",
                "display(df.resample(\"D\", on=\"date_bonus1\").agg({\"login\": \"count\"}))\n",
                "display(df.resample(\"D\", on=\"date_bonus2\").agg({\"login\": \"count\"}))\n",
                "display(df.resample(\"D\", on=\"date_proj1\").agg({\"login\": \"count\"}))"
            ]
        },
        {
            "cell_type": "code",
            "execution_count": null,
            "metadata": {},
            "outputs": [],
            "source": [
                "# Je mozne to udelat n\u011bjak dohromady?\n",
                "# p\u0159evedeme tabulku na stacked format\n",
                "# vytvo\u0159\u00edme sloupec cnt\n",
                "# ud\u011bl\u00e1me groupby \n",
                "# a s n\u011bjak\u00fdm krokem  resamplujeme a zjis\u00edme po\u010det\n",
                "# na konec resetujeme index\n",
                "df3 = df.melt([],  [\"date_bonus1\", \"date_bonus2\", \"date_proj1\"]).eval(\"cnt=1\").groupby(\"variable\").resample(\"1D\", on=\"value\").count()[\"cnt\"].reset_index()\n",
                "df3 ###\n",
                "\n"
            ]
        },
        {
            "cell_type": "code",
            "execution_count": null,
            "metadata": {},
            "outputs": [],
            "source": [
                "# a ted chceme vsechny tri projekty\n",
                "g = sns.catplot(data = df3, x=\"value\", y=\"cnt\", row=\"variable\", kind=\"bar\", aspect=4)\n",
                "\n",
                "for ax in g.axes.flat: ###\n",
                "    xticks = ax.get_xticks() ###\n",
                "    ax.set_xticklabels([pd.to_datetime(tm, unit='d').strftime('%d. %m.') for tm in xticks]) ###\n"
            ]
        },
        {
            "source": [
                "## \u00dakol 2: kolik bylo odevzd\u00e1no projekt\u016f ka\u017ed\u00fd den?"
            ],
            "cell_type": "markdown",
            "metadata": {}
        },
        {
            "cell_type": "code",
            "execution_count": null,
            "metadata": {},
            "outputs": [],
            "source": [
                "# do df3 vytvo\u0159\u00edme sloupec total, kter\u00fd bude odpov\u00eddat celkov\u00e9mu po\u010dtu\n",
                "df3[\"total\"] = df3.groupby(\"variable\")[\"cnt\"].cumsum()\n",
                "df3"
            ]
        },
        {
            "cell_type": "code",
            "execution_count": null,
            "metadata": {},
            "outputs": [],
            "source": [
                "# vykresl\u00edme graf\n",
                "# pomoc\u00ed drawstyle=\"steps-post\" z line\u00e1rn\u00edho grafu ud\u011bl\u00e1me schodovit\u00fd\n",
                "sns.relplot(data=df3, kind=\"line\", x=\"value\", y=\"total\", hue=\"variable\", drawstyle=\"steps-post\") # todo: zmenit cetnost na 4 hodiny"
            ]
        },
        {
            "source": [
                "## \u00dakol 3: odevzd\u00e1valy se \u00fakoly na posledn\u00ed chv\u00edli?"
            ],
            "cell_type": "markdown",
            "metadata": {}
        },
        {
            "cell_type": "code",
            "execution_count": null,
            "metadata": {},
            "outputs": [],
            "source": [
                "###\n",
                "# vytvo\u0159me si dataset deadlin\u016f jednotliv\u00fdch projekt\u016f\n",
                "df_terminy = pd.DataFrame(\n",
                "    {\n",
                "        \"proj\": [\"date_bonus1\", \"date_bonus2\", \"date_proj1\"],\n",
                "        \"deadline\": [\n",
                "            np.datetime64(\"2020-09-25T00:00\"),\n",
                "            np.datetime64(\"2020-10-19T00:00\"),\n",
                "            np.datetime64(\"2020-11-12T00:00\")\n",
                "        ]\n",
                "    }\n",
                ")\n",
                "df_terminy\n",
                "\n"
            ]
        },
        {
            "cell_type": "code",
            "execution_count": null,
            "metadata": {},
            "outputs": [],
            "source": [
                "# Vytvo\u0159me df4, kter\u00fd:\n",
                "# bude zase stacked\n",
                "# a p\u0159id\u00e1me mu sloupec deadline (pomoc\u00ed merge)\n",
                "df4 = df.melt([\"login\"], [\"date_bonus1\", \"date_bonus2\", \"date_proj1\"]).merge(df_terminy, left_on=\"variable\", right_on=\"proj\")\n",
                "\n",
                "#  vytvo\u0159\u00edme sloupec reserve, kter\u00fd bude \u0159\u00edkat, jak\u00e1 byla \u010dasov\u00e1 rezerv\n",
                "# a tak\u00e9 sloupec reserve_days, kter\u00fd p\u0159epo\u010d\u00edt\u00e1 tuto hodnotu na dny (float \u010d\u00edslo)\n",
                "df4[\"reserve\"] = df4[\"deadline\"] - df4[\"value\"]\n",
                "df4[\"reserve_days\"] = df4[\"reserve\"] / np.timedelta64(1, 'D')\n",
                "\n",
                "df4 "
            ]
        },
        {
            "cell_type": "code",
            "execution_count": null,
            "metadata": {},
            "outputs": [],
            "source": [
                "###\n",
                "# a koreluje term\u00edn odevzd\u00e1n\u00ed?\n",
                "df5 = df4.pivot(\"login\", \"proj\", \"reserve_days\")\n",
                "df5\n",
                "\n"
            ]
        },
        {
            "cell_type": "code",
            "execution_count": null,
            "metadata": {},
            "outputs": [],
            "source": [
                "###\n",
                "# a zn\u00e1zorn\u00edme korelaci\n",
                "def diag_line(x, y, **kwds):\n",
                "    plt.plot([x.min(), x.max()], [y.min(), y.max()], color=\"tab:red\", lw=1, ls=\":\")\n",
                "    sns.scatterplot(x, y, **kwds)\n",
                "\n",
                "\n",
                "g = sns.PairGrid(data=df5)\n",
                "g.map_lower(diag_line)\n",
                "g.map_upper(diag_line)\n",
                "g.map_diag(sns.histplot, kde=True, bins=20)\n",
                "#g.map_lower(sns.scatterplot)\n",
                "g.fig.show()\n"
            ]
        },
        {
            "source": [
                "Co v datech vid\u00edme?\n",
                "* \u010dlov\u011bk, kter\u00fd odevzdal projekt dost dop\u0159edu tak odevzdal dost dop\u0159edu i bonus2\n",
                "* vzhledem k t\u00e9m\u011b\u0159 pr\u00e1zdn\u00e9 spodn\u00ed polovin\u011b u date_bonus2 vs date_proj1 p\u0159i projektu m\u011bli lid\u00e9 m\u00e9n\u011b \u010dasu\n",
                "* byla by zaj\u00edmav\u00e1 korelace s po\u010dtem bod\u016f, to v\u0161ak nebudeme ukazovat :)"
            ],
            "cell_type": "markdown",
            "metadata": {}
        },
        {
            "cell_type": "code",
            "execution_count": null,
            "metadata": {},
            "outputs": [],
            "source": []
        }
    ]
}